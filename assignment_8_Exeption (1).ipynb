{
 "cells": [
  {
   "cell_type": "code",
   "execution_count": null,
   "id": "c5f654b7-c1f0-4c65-85f6-119647f70271",
   "metadata": {},
   "outputs": [],
   "source": [
    "Q1. What is an Exeption in python? Write the differene between Exeptions and syntx errors?"
   ]
  },
  {
   "cell_type": "code",
   "execution_count": null,
   "id": "082f5124-6457-47ca-a073-d91774156062",
   "metadata": {},
   "outputs": [],
   "source": [
    "Exceptions are raised when the program is syntactically correct, but the code results in an error. \n",
    "This error does not stop the execution of the program, however,it changes the normal flow of the program.\n",
    "\n",
    "Both errors and exceptions are unwanted occurrence during the execution of a program. However, they have key differences.\n",
    "Exceptions can be foreseen by the programmer, while an error is difficult to foresee.Exceptions can be \n",
    "checked or unchecked. But errors are always unchecked. \n",
    "After handling an exception, you are guaranteed to return to normal program flow. But even if an error is caught,\n",
    "the programmer may not know how to handle it ."
   ]
  },
  {
   "cell_type": "code",
   "execution_count": null,
   "id": "d8143672-b79f-435e-b1af-588750cf2869",
   "metadata": {},
   "outputs": [],
   "source": [
    "Q2. What happens when an exeption is not handled? Explain with an example\n",
    "When an exception occurred, if you don’t handle it, the program terminates abruptly and the code past the line that caused \n",
    "the exception will not get executed."
   ]
  },
  {
   "cell_type": "code",
   "execution_count": 10,
   "id": "355d22b2-f3bc-4514-b206-a662a7462839",
   "metadata": {},
   "outputs": [
    {
     "name": "stdout",
     "output_type": "stream",
     "text": [
      "3\n",
      "error occured\n",
      "helllo\n",
      "3\n"
     ]
    },
    {
     "ename": "IndexError",
     "evalue": "list index out of range",
     "output_type": "error",
     "traceback": [
      "\u001b[0;31m---------------------------------------------------------------------------\u001b[0m",
      "\u001b[0;31mIndexError\u001b[0m                                Traceback (most recent call last)",
      "Cell \u001b[0;32mIn[10], line 16\u001b[0m\n\u001b[1;32m     13\u001b[0m a\u001b[38;5;241m=\u001b[39m[\u001b[38;5;241m2\u001b[39m,\u001b[38;5;241m3\u001b[39m,\u001b[38;5;241m4\u001b[39m]\n\u001b[1;32m     15\u001b[0m \u001b[38;5;28mprint\u001b[39m(a[\u001b[38;5;241m1\u001b[39m])\n\u001b[0;32m---> 16\u001b[0m \u001b[38;5;28mprint\u001b[39m(\u001b[43ma\u001b[49m\u001b[43m[\u001b[49m\u001b[38;5;241;43m3\u001b[39;49m\u001b[43m]\u001b[49m)\n\u001b[1;32m     19\u001b[0m \u001b[38;5;28mprint\u001b[39m(\u001b[38;5;124m\"\u001b[39m\u001b[38;5;124mhelllo\u001b[39m\u001b[38;5;124m\"\u001b[39m)\n\u001b[1;32m     21\u001b[0m \u001b[38;5;66;03m# without handling it give error and further program is not run.\u001b[39;00m\n",
      "\u001b[0;31mIndexError\u001b[0m: list index out of range"
     ]
    }
   ],
   "source": [
    "\n",
    "# after handling  \n",
    "a=[2,3,4]\n",
    "try:\n",
    "    \n",
    "    print(a[1])\n",
    "    print(a[3])\n",
    "\n",
    "except:\n",
    "    print(\"error occured\")\n",
    "print(\"helllo\")\n",
    "#  without handling\n",
    "\n",
    "a=[2,3,4]\n",
    "    \n",
    "print(a[1])\n",
    "print(a[3])\n",
    "\n",
    "\n",
    "print(\"helllo\")\n",
    "\n",
    "# without handling it give error and further program is not run.\n",
    "\n",
    "\n",
    "\n"
   ]
  },
  {
   "cell_type": "code",
   "execution_count": null,
   "id": "6ff2dcc1-b4b6-4617-a349-88d71a0ff3fa",
   "metadata": {},
   "outputs": [],
   "source": [
    "Q3. Which Python statements are used to catch and handle exceptions? Explain with an example.\n",
    "answer:\n",
    "    Try and except statements are used to catch and handle exceptions in Python."
   ]
  },
  {
   "cell_type": "code",
   "execution_count": 1,
   "id": "b992e70c-a9c1-43b0-848d-4674d86df624",
   "metadata": {},
   "outputs": [
    {
     "name": "stdout",
     "output_type": "stream",
     "text": [
      "3\n",
      "an error occured\n"
     ]
    }
   ],
   "source": [
    "#for example\n",
    "\n",
    "a=[2,3,4]\n",
    "try:\n",
    "    print(a[1])\n",
    "    print(a[3])\n",
    "except:\n",
    "    print(\"an error occured\")\n",
    "    "
   ]
  },
  {
   "cell_type": "code",
   "execution_count": null,
   "id": "a3d97c3b-c218-4020-9f2c-e9074aaeefbf",
   "metadata": {},
   "outputs": [],
   "source": [
    "Q4. Explain with an example:\n",
    "\f",
    "\u001d",
    " try and else\n",
    "\u0007\u001d",
    " finally\n",
    "\u0007\u001d",
    " raise \n"
   ]
  },
  {
   "cell_type": "code",
   "execution_count": 17,
   "id": "9c8dd645-1494-4e81-9f56-37153aef760a",
   "metadata": {},
   "outputs": [
    {
     "name": "stdin",
     "output_type": "stream",
     "text": [
      "enter a number: 34\n"
     ]
    },
    {
     "name": "stdout",
     "output_type": "stream",
     "text": [
      "1.0\n",
      "executed\n",
      "not defiend\n",
      "this block of code is always executed\n"
     ]
    },
    {
     "ename": "TypeError",
     "evalue": "Only integers are allowed",
     "output_type": "error",
     "traceback": [
      "\u001b[0;31m---------------------------------------------------------------------------\u001b[0m",
      "\u001b[0;31mTypeError\u001b[0m                                 Traceback (most recent call last)",
      "Cell \u001b[0;32mIn[17], line 30\u001b[0m\n\u001b[1;32m     27\u001b[0m x \u001b[38;5;241m=\u001b[39m\u001b[38;5;124m\"\u001b[39m\u001b[38;5;124mhello\u001b[39m\u001b[38;5;124m\"\u001b[39m\n\u001b[1;32m     29\u001b[0m \u001b[38;5;28;01mif\u001b[39;00m \u001b[38;5;129;01mnot\u001b[39;00m \u001b[38;5;28mtype\u001b[39m(x) \u001b[38;5;129;01mis\u001b[39;00m \u001b[38;5;28mint\u001b[39m:\n\u001b[0;32m---> 30\u001b[0m   \u001b[38;5;28;01mraise\u001b[39;00m \u001b[38;5;167;01mTypeError\u001b[39;00m(\u001b[38;5;124m\"\u001b[39m\u001b[38;5;124mOnly integers are allowed\u001b[39m\u001b[38;5;124m\"\u001b[39m)\n",
      "\u001b[0;31mTypeError\u001b[0m: Only integers are allowed"
     ]
    }
   ],
   "source": [
    "# try and else \n",
    "# else statment executed when except is not executed.\n",
    "num=int(input(\"enter a number:\"))\n",
    "try:\n",
    "    c=num/num\n",
    "    \n",
    "    print(c)\n",
    "except:\n",
    "    print(\"not executed \")\n",
    "else:\n",
    "    print(\"executed\")\n",
    "    \n",
    "#finally\n",
    "# Finally block always gets executed either exception is generated or not\n",
    "try:\n",
    "    a,b=4,0\n",
    "    print(a/b)\n",
    "except:\n",
    "    print(\"not defiend\")\n",
    "finally:\n",
    "    print(\"this block of code is always executed\")\n",
    "    \n",
    "#raise\n",
    "\n",
    "# The raise keyword is used to raise an exception.\n",
    "# You can define what kind of error to raise, and the text to print to the user.\n",
    "x =\"hello\"\n",
    "\n",
    "if not type(x) is int:\n",
    "  raise TypeError(\"Only integers are allowed\")"
   ]
  },
  {
   "cell_type": "code",
   "execution_count": null,
   "id": "9640a17f-8d1b-4507-9c6a-98253c4cf09b",
   "metadata": {},
   "outputs": [],
   "source": [
    "Q5. What are Custom Exceptions in python? Why do we need Custom Exceptions? Explain with an example.\n",
    "In Python, we can define custom exceptions by creating a new class that is derived from the built-in Exception class.\n"
   ]
  },
  {
   "cell_type": "code",
   "execution_count": 18,
   "id": "1f31f289-fe8e-48e4-8ffe-381e6e39fdcf",
   "metadata": {},
   "outputs": [
    {
     "name": "stdin",
     "output_type": "stream",
     "text": [
      "Enter a number:  15\n"
     ]
    },
    {
     "name": "stdout",
     "output_type": "stream",
     "text": [
      "Exception occurred: Invalid Age\n"
     ]
    }
   ],
   "source": [
    "# define Python user-defined exceptions\n",
    "class InvalidAgeException(Exception):\n",
    "    \"Raised when the input value is less than 18\"\n",
    "    pass\n",
    "\n",
    "# you need to guess this number\n",
    "number = 18\n",
    "\n",
    "try:\n",
    "    input_num = int(input(\"Enter a number: \"))\n",
    "    if input_num < number:\n",
    "        raise InvalidAgeException\n",
    "    else:\n",
    "        print(\"Eligible to Vote\")\n",
    "        \n",
    "except InvalidAgeException:\n",
    "    print(\"Exception occurred: Invalid Age\")"
   ]
  },
  {
   "cell_type": "code",
   "execution_count": null,
   "id": "b8b684a1-09db-4f79-ac95-c78b7e569303",
   "metadata": {},
   "outputs": [],
   "source": [
    "Q6. Create a custom exception class. Use this class to handle an exception.\n"
   ]
  },
  {
   "cell_type": "code",
   "execution_count": 11,
   "id": "70299c8f-b997-4c9d-9899-5fb929c1bf0b",
   "metadata": {},
   "outputs": [
    {
     "name": "stdin",
     "output_type": "stream",
     "text": [
      "Enter a number:  34\n"
     ]
    },
    {
     "name": "stdout",
     "output_type": "stream",
     "text": [
      "Eligible to Vote\n"
     ]
    }
   ],
   "source": [
    "# define Python user-defined exceptions\n",
    "class InvalidAgeException(Exception):\n",
    "    \"Raised when the input value is less than 18\"\n",
    "    pass\n",
    "\n",
    "# you need to guess this number\n",
    "number = 18\n",
    "\n",
    "try:\n",
    "    input_num = int(input(\"Enter a number: \"))\n",
    "    if input_num < number:\n",
    "        raise InvalidAgeException\n",
    "    else:\n",
    "        print(\"Eligible to Vote\")\n",
    "        \n",
    "except InvalidAgeException:\n",
    "    print(\"Exception occurred: Invalid Age\")"
   ]
  }
 ],
 "metadata": {
  "kernelspec": {
   "display_name": "Python 3 (ipykernel)",
   "language": "python",
   "name": "python3"
  },
  "language_info": {
   "codemirror_mode": {
    "name": "ipython",
    "version": 3
   },
   "file_extension": ".py",
   "mimetype": "text/x-python",
   "name": "python",
   "nbconvert_exporter": "python",
   "pygments_lexer": "ipython3",
   "version": "3.10.8"
  }
 },
 "nbformat": 4,
 "nbformat_minor": 5
}
